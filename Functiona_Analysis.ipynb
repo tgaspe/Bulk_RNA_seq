{
 "cells": [
  {
   "cell_type": "markdown",
   "id": "2de193ed",
   "metadata": {},
   "source": [
    "# Functional analysis of gene signatures\n",
    "\n",
    "In this session we will analyze the differentially expressed genes found by DESeq2 on the bulk RNA-seq data, for our case study. \n",
    "\n",
    "Two replicates of Exercise Tumor (ET) RNA-seq samples were compared with 2 replicates of Non-Exercise Tumor (NT) RNA-seq samples. \n",
    "\n",
    "The DESeq2 analysis resulted in a resLFC_df.tsv file, which we will use here.\n",
    "The Seurat analysis of scRNA-seq data ...\n",
    "The Scanpy analysis of scRNA-seq data ..."
   ]
  },
  {
   "cell_type": "code",
   "execution_count": 1,
   "id": "be1c87c9",
   "metadata": {},
   "outputs": [
    {
     "name": "stdout",
     "output_type": "stream",
     "text": [
      "/mnt/storage/r0974221/jupyternotebooks/assignment_1\r\n"
     ]
    }
   ],
   "source": [
    "!pwd"
   ]
  },
  {
   "cell_type": "code",
   "execution_count": null,
   "id": "c4893978",
   "metadata": {},
   "outputs": [],
   "source": [
    "# full path results from bulk RNA seq\n",
    "# /home/luna.kuleuven.be/r0974221/data/jupyternotebooks/assignment_1/bulk_RNA_seq/resLFC_df.tsv"
   ]
  },
  {
   "cell_type": "code",
   "execution_count": 6,
   "id": "3fab467d",
   "metadata": {},
   "outputs": [
    {
     "name": "stdout",
     "output_type": "stream",
     "text": [
      "mkdir: cannot create directory ‘functional_analysis_gene_signatures’: File exists\r\n"
     ]
    }
   ],
   "source": [
    "mkdir functional_analysis_gene_signatures"
   ]
  },
  {
   "cell_type": "code",
   "execution_count": 7,
   "id": "4dc4938a",
   "metadata": {},
   "outputs": [
    {
     "name": "stdout",
     "output_type": "stream",
     "text": [
      "/mnt/storage/r0974221/jupyternotebooks/assignment_1/functional_analysis_gene_signatures\n"
     ]
    }
   ],
   "source": [
    "cd functional_analysis_gene_signatures"
   ]
  },
  {
   "cell_type": "code",
   "execution_count": null,
   "id": "091b7619",
   "metadata": {},
   "outputs": [],
   "source": []
  }
 ],
 "metadata": {
  "kernelspec": {
   "display_name": "Python 3",
   "language": "python",
   "name": "python3"
  },
  "language_info": {
   "codemirror_mode": {
    "name": "ipython",
    "version": 3
   },
   "file_extension": ".py",
   "mimetype": "text/x-python",
   "name": "python",
   "nbconvert_exporter": "python",
   "pygments_lexer": "ipython3",
   "version": "3.6.9"
  }
 },
 "nbformat": 4,
 "nbformat_minor": 5
}
