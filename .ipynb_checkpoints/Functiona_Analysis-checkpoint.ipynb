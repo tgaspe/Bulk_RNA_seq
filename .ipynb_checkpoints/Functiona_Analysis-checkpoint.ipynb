{
 "cells": [
  {
   "cell_type": "markdown",
   "id": "59e61969",
   "metadata": {},
   "source": [
    "# Functional analysis of gene signatures\n",
    "\n",
    "In this session we will analyze the differentially expressed genes found by DESeq2 on the bulk RNA-seq data, for our case study. \n",
    "\n",
    "Two replicates of non-stimulated (NS) RNA-seq samples were compared with 2 replicates of stimulated (S) RNA-seq samples. \n",
    "\n",
    "The DESeq2 analysis resulted in a deseq.results.tsv file, which we will use here.\n",
    "The Seurat analysis of scRNA-seq data ...\n",
    "The Scanpy analysis of scRNA-seq data ..."
   ]
  },
  {
   "cell_type": "code",
   "execution_count": null,
   "id": "9967f724",
   "metadata": {},
   "outputs": [],
   "source": []
  },
  {
   "cell_type": "code",
   "execution_count": null,
   "id": "a9c62747",
   "metadata": {},
   "outputs": [],
   "source": []
  },
  {
   "cell_type": "code",
   "execution_count": null,
   "id": "8a86046a",
   "metadata": {},
   "outputs": [],
   "source": []
  },
  {
   "cell_type": "code",
   "execution_count": null,
   "id": "06a9f0e4",
   "metadata": {},
   "outputs": [],
   "source": []
  }
 ],
 "metadata": {
  "kernelspec": {
   "display_name": "Python 3",
   "language": "python",
   "name": "python3"
  },
  "language_info": {
   "codemirror_mode": {
    "name": "ipython",
    "version": 3
   },
   "file_extension": ".py",
   "mimetype": "text/x-python",
   "name": "python",
   "nbconvert_exporter": "python",
   "pygments_lexer": "ipython3",
   "version": "3.6.9"
  }
 },
 "nbformat": 4,
 "nbformat_minor": 5
}
