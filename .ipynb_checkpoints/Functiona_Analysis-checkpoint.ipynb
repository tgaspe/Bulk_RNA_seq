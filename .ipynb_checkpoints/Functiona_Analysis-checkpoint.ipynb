{
 "cells": [
  {
   "cell_type": "markdown",
   "id": "d6798c0e",
   "metadata": {},
   "source": [
    "# Functional analysis of gene signatures\n",
    "\n",
    "In this notebook we will analyze the differentially expressed genes found by DESeq2 on the bulk RNA-seq data, for our case study. \n",
    "\n",
    "Two replicates of Exercise Tumor (ET) RNA-seq samples were compared with 2 replicates of Non-Exercise Tumor (NT) RNA-seq samples. \n",
    "\n",
    "The DESeq2 analysis resulted in a resLFC_df.tsv file, which we will use here.\n",
    "The Seurat analysis of scRNA-seq data ...\n",
    "The Scanpy analysis of scRNA-seq data ..."
   ]
  },
  {
   "cell_type": "code",
   "execution_count": 2,
   "id": "21f5dd0f",
   "metadata": {},
   "outputs": [
    {
     "name": "stdout",
     "output_type": "stream",
     "text": [
      "/mnt/storage/r0974221/jupyternotebooks/assignment_1\n"
     ]
    }
   ],
   "source": [
    "pwd"
   ]
  },
  {
   "cell_type": "code",
   "execution_count": 3,
   "id": "10d4b2a3",
   "metadata": {},
   "outputs": [],
   "source": [
    "mkdir -p functional_analysis_gene_signatures"
   ]
  },
  {
   "cell_type": "code",
   "execution_count": 4,
   "id": "8271efae",
   "metadata": {},
   "outputs": [],
   "source": [
    "cd functional_analysis_gene_signatures/"
   ]
  },
  {
   "cell_type": "code",
   "execution_count": 5,
   "id": "62994097",
   "metadata": {},
   "outputs": [
    {
     "name": "stdout",
     "output_type": "stream",
     "text": [
      "/mnt/storage/r0974221/jupyternotebooks/assignment_1/functional_analysis_gene_signatures\n"
     ]
    }
   ],
   "source": [
    "pwd"
   ]
  },
  {
   "cell_type": "code",
   "execution_count": 2,
   "id": "d647a394",
   "metadata": {},
   "outputs": [],
   "source": [
    "# full path results from bulk RNA seq\n",
    "# /home/luna.kuleuven.be/r0974221/data/jupyternotebooks/assignment_1/bulk_RNA_seq/resLFC_df.tsv"
   ]
  },
  {
   "cell_type": "code",
   "execution_count": 15,
   "id": "068c827d",
   "metadata": {},
   "outputs": [],
   "source": [
    "cp /home/luna.kuleuven.be/r0974221/data/jupyternotebooks/assignment_1/bulk_RNA_seq/resLFC_df.tsv ."
   ]
  },
  {
   "cell_type": "code",
   "execution_count": 21,
   "id": "b6ea1d17",
   "metadata": {},
   "outputs": [],
   "source": [
    "# Renaming file to deseq.results.tsv\n",
    "mv resLFC_df.tsv deseq.results.tsv"
   ]
  },
  {
   "cell_type": "code",
   "execution_count": 6,
   "id": "a21513df",
   "metadata": {},
   "outputs": [
    {
     "name": "stdout",
     "output_type": "stream",
     "text": [
      "deseq.results.tsv\n"
     ]
    }
   ],
   "source": [
    "ls"
   ]
  },
  {
   "cell_type": "code",
   "execution_count": 7,
   "id": "3303ca2a",
   "metadata": {},
   "outputs": [
    {
     "name": "stdout",
     "output_type": "stream",
     "text": [
      "Genes\tbaseMean\tlog2FoldChange\tlfcSE\tstat\tpvalue\tpadj\n",
      "Sox17\t17.9218351322995\t0.0567175928080931\t0.14291740155147\t-0.122261169761646\t0.902692183280413\t0.999847817557225\n",
      "Mrpl15\t196.706977153318\t0.17245659275457\t0.159496849929938\t1.1349202599006\t0.256408730339664\t0.999847817557225\n",
      "Lypla1\t663.927686987207\t0.0880983772182862\t0.15272993090251\t0.759890974281584\t0.447319757132613\t0.999847817557225\n",
      "Tcea1\t89.189070084373\t-0.0562815738874985\t0.167276006318027\t-0.387324493824752\t0.69851599451619\t0.999847817557225\n",
      "Atp6v1h\t301.397408016249\t0.0991751933429822\t0.155904291214187\t0.711309724268578\t0.476892326963495\t0.999847817557225\n",
      "Rb1cc1\t236.936023938396\t0.000325921275590987\t0.159928431890846\t0.0690067186636276\t0.94498427153017\t0.999847817557225\n",
      "4732440D04Rik\t7.87055446656268\t-0.0289689672155057\t0.118104262515928\t-0.26707065561488\t0.789414760647489\t0.999847817557225\n",
      "Pcmtd1\t447.006175752713\t0.143614785641583\t0.14910674857427\t1.04452662085504\t0.296241809355098\t0.999847817557225\n",
      "Gm9826\t5.79032460210304\t-0.137391107585221\t0.100115847145929\t-0.302526774561058\t0.762250525928691\t0.999847817557225\n"
     ]
    }
   ],
   "source": [
    "head deseq.results.tsv"
   ]
  },
  {
   "cell_type": "code",
   "execution_count": 9,
   "id": "799cea21",
   "metadata": {},
   "outputs": [
    {
     "name": "stdout",
     "output_type": "stream",
     "text": [
      "Genes\tbaseMean\tlog2FoldChange\tlfcSE\tstat\tpvalue\tpadj\n",
      "11188:Tff3\t244.759418632065\t1.09422282431597\t0.167775382888266\t3.35222619119848\t0.000801644939982028\t0.900247267599817\n",
      "5777:H19\t181.233659692708\t0.961629939863601\t0.167615076333602\t3.48929091335083\t0.00048430376888486\t0.664733828559408\n",
      "11784:BC023105\t44.1189418047297\t-0.597018737290996\t0.155957722732115\t-4.24420707861395\t2.19367709086422e-05\t0.0677462327586143\n"
     ]
    }
   ],
   "source": [
    "head -1 deseq.results.tsv\n",
    "grep -n Tff3 deseq.results.tsv\n",
    "grep -n H19 deseq.results.tsv\n",
    "grep -n BC023105 deseq.results.tsv"
   ]
  },
  {
   "cell_type": "markdown",
   "id": "7436e8d4",
   "metadata": {},
   "source": [
    "## Use arbitrary thresholds to create lists of up- and down-regulated genes\n",
    "* careful: there are a lot of genes without detected expression, they have NA in the logFC column; so column 3 ($3) should not be \"NA\" \n",
    "* we're using awk to filter this file, selecting only rows where the logFC (column 3, indicated by \"\\$3\") is higher than a threshold; and the padj is lower than a threshold\n",
    "* print ; => prints all the columns of the rows that fulfill our requirements"
   ]
  },
  {
   "cell_type": "code",
   "execution_count": 20,
   "id": "bb2e7f78",
   "metadata": {},
   "outputs": [
    {
     "name": "stdout",
     "output_type": "stream",
     "text": [
      "Dbp 0.600911358130066\n",
      "Meg3 -0.358620106642355\n",
      "Rian -0.412696152907712\n"
     ]
    }
   ],
   "source": [
    "awk '$3 != \"NA\" && $7 < 0.05 {print $1, $3}' deseq.results.tsv"
   ]
  },
  {
   "cell_type": "markdown",
   "id": "c445f2a2",
   "metadata": {},
   "source": [
    "## p-value \n",
    "__Because I only had three genes that were significant with the adjusted p value, I decided to use the normal p-value so that I could continue the analysis.__"
   ]
  },
  {
   "cell_type": "code",
   "execution_count": 21,
   "id": "77623602",
   "metadata": {},
   "outputs": [
    {
     "name": "stdout",
     "output_type": "stream",
     "text": [
      "Hs6st1 0.317317153224412\n",
      "Npas2 -0.3435393766771\n",
      "Col5a2 -0.261757199863888\n",
      "Tns1 0.32168911596354\n",
      "Dock10 -0.301635287553384\n",
      "Per2 0.473390967679951\n",
      "Bcl2 -0.225004035036166\n",
      "AA986860 0.302367834851354\n",
      "Etnk2 0.494579448549569\n",
      "Adora1 0.258688157845901\n",
      "Ppfia4 -0.232059142614159\n",
      "Ptprc -0.323479723956436\n",
      "Cdc73 -0.329039442322891\n",
      "Fam129a -0.451042458934577\n",
      "Atf3 0.47595585576124\n",
      "B3galt1 -0.344469080558399\n",
      "Slc20a1 0.437034879493215\n",
      "Sirpa -0.407885710354397\n",
      "Wfdc2 0.16278699137289\n",
      "Zbp1 -0.334341486921642\n",
      "Was -0.253976146690579\n",
      "Maoa 0.233380659769643\n",
      "Eda 0.0636793647564353\n",
      "5530601H04Rik -0.29255392603387\n",
      "Armcx4 -0.240666035902933\n",
      "G530011O06Rik -0.147299083861955\n",
      "Slc2a2 0.404169048907598\n",
      "Arhgef26 0.302497501036556\n",
      "Rarres1 0.52824607528542\n",
      "Tdo2 0.317013860332833\n",
      "Gatb 0.251403327837179\n",
      "Pklr 0.352180760559563\n",
      "S100a10 0.282799841048424\n",
      "Fmo5 0.312745086011498\n",
      "Tspan2 -0.232898049660319\n",
      "Gstm3 0.32371010812901\n",
      "Elovl6 0.326912409230262\n",
      "Gbp5 -0.320221722388502\n",
      "Gbp7 -0.316539061965027\n",
      "Gbp2b -0.220242102948031\n",
      "Gbp2 -0.261108825064958\n",
      "Uox 0.329068399474422\n",
      "Cdh17 -0.159282675909647\n",
      "Bach2 -0.330047867034909\n",
      "Pnrc1 -0.476176244159032\n",
      "Tbc1d2 -0.194196243263819\n",
      "Aldob 0.379263763458845\n",
      "Col27a1 0.368885470228373\n",
      "Megf9 0.429275023634121\n",
      "Tle1 0.370308129728464\n",
      "Lepr 0.57017414314017\n",
      "Echdc2 0.291618643455869\n",
      "Cdc20 -0.177814846814083\n",
      "Mfsd2a 0.290857007393075\n",
      "Bmp8b 0.618513017584193\n",
      "Serinc2 0.424864620975576\n",
      "Cep85 0.383437885415197\n",
      "Alpl 0.338365987645271\n",
      "Per3 0.373347430989225\n",
      "Fgl2 -0.357192920697076\n",
      "Fgfr3 0.307879325813549\n",
      "Ugdh 0.247502490162213\n",
      "Scfd2 -0.321169511017024\n",
      "Sult1b1 0.279136306442909\n",
      "Sult1d1 0.340943987231392\n",
      "Sult1e1 0.166007957074021\n",
      "Cxcl9 -0.359190759464003\n",
      "Stbd1 0.305696988593592\n",
      "Cmklr1 -0.352167538947385\n",
      "Gltp -0.451235365644013\n",
      "Sds 0.52675454070598\n",
      "Glt1d1 0.107100991506477\n",
      "Por 0.284694268899562\n",
      "Amz1 -0.224630954438084\n",
      "Cyp3a25 0.190371326147482\n",
      "Smo -0.359781969442543\n",
      "Akr1b3 -0.179198634127902\n",
      "Akr1d1 0.214838965377467\n",
      "Gimap3 -0.220135534419189\n",
      "St3gal5 0.352189331996874\n",
      "Capg -0.267528556821443\n",
      "Eva1a 0.298737309898748\n",
      "Mansc1 -0.18744018316366\n",
      "Gys2 0.474220480931459\n",
      "Rps4l 0.320735754964293\n",
      "Cyp2a22 0.258408090298891\n",
      "Hamp -0.587116612367917\n",
      "Dbp 0.600911358130066\n",
      "Gas2 0.200482771715971\n",
      "Gm16157 0.273377672275067\n",
      "Prcp -0.299634835403325\n",
      "Thrsp 0.216368350186043\n",
      "Tsku 0.262229636713463\n",
      "Gm8995 -0.37548352910093\n",
      "Arntl -0.437561478972717\n",
      "Tmc7 0.348162228851989\n",
      "Slc25a22 0.377627056167269\n",
      "H19 0.961629939863601\n",
      "Akap12 0.432473499739523\n",
      "Sgk1 0.281272031750344\n",
      "Raet1d 0.303939757418588\n",
      "Arg1 0.281065290432272\n",
      "Gm5424 0.212502178147549\n",
      "AC079680.3 -0.323670206891692\n",
      "Gstt3 0.308634484903987\n",
      "Mknk2 0.40625462060944\n",
      "Slc41a2 -0.288045256759475\n",
      "Cry1 -0.349648729872041\n",
      "Inhbe 0.26089285365314\n",
      "Atp11a -0.365679417599946\n",
      "Cln8 0.362359190706682\n",
      "1810011O10Rik 0.209335333407531\n",
      "Arrdc2 0.364630303145897\n",
      "Ces1g 0.172639384689069\n",
      "Gm45774 0.190235052798117\n",
      "Gm15889 0.299723680027307\n",
      "Nlrc5 -0.369333298960353\n",
      "Kifc3 -0.37062779126953\n",
      "Spata2l 0.342676265370096\n",
      "Pdhb 0.294875620716245\n",
      "Nr1d2 0.375042137462866\n",
      "Kcnk5 0.216329834475902\n",
      "Slc22a17 -0.225032916880016\n",
      "Extl3 -0.336846187071631\n",
      "Casp12 -0.242710341803402\n",
      "Usp2 0.214311360059986\n",
      "Slc37a4 0.395461268682914\n",
      "AC116503.1 0.400032550083818\n",
      "Nnmt 0.127586108039505\n",
      "Zbtb16 0.602582620243943\n",
      "Gldn -0.207720072738796\n",
      "Thsd4 -0.10944444246537\n",
      "Fam214a 0.345856091882466\n",
      "Acpp 0.212494242415121\n",
      "Abhd5 -0.344129770801078\n",
      "Camk2b 0.321205762015849\n",
      "Igfbp3 -0.429179141465776\n",
      "C1d 0.357200565492588\n",
      "Ugp2 0.32557875442921\n",
      "Lcp2 -0.309962341017369\n",
      "Irgm1 -0.337792563014827\n",
      "Ifi47 -0.338040927053496\n",
      "Leap2 0.30953306938111\n",
      "Irf1 -0.318281948861015\n",
      "Igtp -0.494145544652141\n",
      "Irgm2 -0.473270891121935\n",
      "Slc47a1 0.294037380877001\n",
      "Chrnb1 -0.171093439728301\n",
      "Slc16a11 0.378079555943481\n",
      "Slc43a2 -0.320256541261248\n",
      "Rab11fip4 -0.337795284277042\n",
      "Crlf3 -0.317366241641564\n",
      "Ppp1r9b -0.345720297937184\n",
      "Pdk2 0.267326347566179\n",
      "Nr1d1 0.607930556055939\n",
      "Map2k6 0.192608595679181\n",
      "Cd300a -0.305887642145798\n",
      "Hid1 -0.225566015131095\n",
      "Fasn 0.37088666958439\n",
      "Ccdc57 0.206217716380306\n",
      "Fn3k 0.111363376177513\n",
      "Sox4 -0.294514277716557\n",
      "Serpinb9 -0.354393266764286\n",
      "Rbm24 0.230777937633479\n",
      "Bhmt 0.177179537246409\n",
      "Fam49a -0.461333186317384\n",
      "Lpin1 0.528106300618487\n",
      "Id2 -0.389315932298426\n",
      "Tspan13 -0.189018676293113\n",
      "Lgmn -0.363398262104777\n",
      "Slc25a47 0.288387746942869\n",
      "Meg3 -0.358620106642355\n",
      "Rian -0.412696152907712\n",
      "Tnfaip2 -0.336898297023984\n",
      "Agxt2 0.395953616199298\n",
      "Cox6c 0.297314146286953\n",
      "Azin1 0.332173477430689\n",
      "Anxa13 0.301831361205378\n",
      "Ndufb9 0.308784291539915\n",
      "Mtss1 0.408353482338456\n",
      "Cdc42ep1 0.445666628838921\n",
      "Tef 0.389092872633065\n",
      "Cyp2d41-ps 0.446725152099723\n",
      "Celsr1 0.395578303999557\n",
      "Pim3 0.337778178614846\n",
      "Gpd1 0.270192739587683\n",
      "Cela1 0.555158523204364\n",
      "Atg101 0.312891485517423\n",
      "Tns2 0.422910063552447\n",
      "Zfp385a 0.43631872079828\n",
      "Ciita -0.41178387170486\n",
      "Mpv17l 0.206089746374573\n",
      "Slc15a2 -0.3059808917403\n",
      "Itsn1 -0.436709537062332\n",
      "Ppard -0.416249494179656\n",
      "Fkbp5 0.460350860207154\n",
      "Tff3 1.09422282431597\n",
      "Gm15318 0.250442513012089\n",
      "H2-Ab1 -0.489154516807647\n",
      "H2-Aa -0.485518283479065\n",
      "H2-Eb1 -0.432590342204404\n",
      "Ltb -0.226844734673265\n",
      "H2-D1 -0.290879710029862\n",
      "H2-Q4 -0.33181327151937\n",
      "H2-Q6 -0.479341966930234\n",
      "H2-Q7 -0.29163602034129\n",
      "Tubb5 -0.378579154291826\n",
      "H2-T24 -0.276192279549428\n",
      "Rcan2 -0.348549574038935\n",
      "Slc22a7 0.447278316668421\n",
      "Lpin2 0.380460242659136\n",
      "Abcg5 0.308881942030805\n",
      "Abcg8 0.348215740929969\n",
      "Aqp4 0.292598919694775\n",
      "Tmem173 -0.312891603927802\n",
      "Iigp1 -0.29956054816713\n",
      "BC023105 -0.597018737290996\n",
      "Cd74 -0.488467129463546\n",
      "Arhgef37 0.147306367901219\n",
      "Chka -0.266393267282749\n",
      "Pitpnm1 -0.335515608827621\n",
      "Neat1 -0.404986255615712\n",
      "Slc3a2 -0.331032063033216\n",
      "Mpeg1 -0.496117323614385\n",
      "Klf9 0.310760002085136\n",
      "Kif11 -0.275597508293327\n",
      "Myof -0.445109660082374\n",
      "Loxl4 -0.297385108274766\n",
      "mt-Rnr2 0.417136522687264\n",
      "mt-Nd1 0.304482039282487\n",
      "mt-Nd2 0.311861794627584\n",
      "mt-Nd5 0.313952404080442\n",
      "mt-Nd6 0.33737984146127\n"
     ]
    }
   ],
   "source": [
    "awk '$3 != \"NA\" && $6 < 0.05 {print $1, $3}' deseq.results.tsv"
   ]
  },
  {
   "cell_type": "markdown",
   "id": "4c855475",
   "metadata": {},
   "source": [
    "## Upregulated Genes "
   ]
  },
  {
   "cell_type": "code",
   "execution_count": 23,
   "id": "e6be20e4",
   "metadata": {},
   "outputs": [],
   "source": [
    "awk '$3 != \"NA\" && $3 > 1 && $6 < 0.05 {print $1}' deseq.results.tsv > up-logFC1-p05.txt"
   ]
  },
  {
   "cell_type": "markdown",
   "id": "76569da5",
   "metadata": {},
   "source": [
    "## Downregulated Genes"
   ]
  },
  {
   "cell_type": "code",
   "execution_count": 24,
   "id": "d2430a49",
   "metadata": {},
   "outputs": [],
   "source": [
    "awk '$3 != \"NA\" && $3 < -1 && $6 < 0.05 {print $1}' deseq.results.tsv > down-logFC1-p05.txt"
   ]
  },
  {
   "cell_type": "markdown",
   "id": "89dad6ac",
   "metadata": {},
   "source": [
    "Counting number of up and down regulated genes"
   ]
  },
  {
   "cell_type": "code",
   "execution_count": 25,
   "id": "9cc825fa",
   "metadata": {},
   "outputs": [
    {
     "name": "stdout",
     "output_type": "stream",
     "text": [
      "1 up-logFC1-p05.txt\n",
      "0 down-logFC1-p05.txt\n"
     ]
    }
   ],
   "source": [
    "wc -l up-logFC1-p05.txt\n",
    "wc -l down-logFC1-p05.txt"
   ]
  },
  {
   "cell_type": "markdown",
   "id": "9acf16d9",
   "metadata": {},
   "source": [
    "## Mousemine.org"
   ]
  },
  {
   "cell_type": "code",
   "execution_count": null,
   "id": "32de36a6",
   "metadata": {},
   "outputs": [],
   "source": []
  }
 ],
 "metadata": {
  "kernelspec": {
   "display_name": "Bash",
   "language": "bash",
   "name": "bash"
  },
  "language_info": {
   "codemirror_mode": "shell",
   "file_extension": ".sh",
   "mimetype": "text/x-sh",
   "name": "bash"
  }
 },
 "nbformat": 4,
 "nbformat_minor": 5
}
