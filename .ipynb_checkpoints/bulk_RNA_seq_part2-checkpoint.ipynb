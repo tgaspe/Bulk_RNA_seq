{
 "cells": [
  {
   "cell_type": "markdown",
   "metadata": {},
   "source": [
    "# Case study: Regular exercise suppresses steatosis-associated liver cancer development by degrading E2F1 and c-Myc via circadian gene upregulation\n",
    "\n",
    "## Theodoro Gasperin Terra Camargo (r0974221)\n",
    "\n",
    "**Research question:** How does regular exercise suppress liver cancer development at the molecular level in mice?\n",
    "\n",
    "**Experiment setup:** \n",
    "\n",
    "* Exercise group:\n",
    "    * tumor tissue\n",
    "    * non-tumor tissue\n",
    "    \n",
    "* Non-Exercise group:\n",
    "    * tumor tissue (positive control)\n",
    "    * non-tumor tissue (negative control)\n",
    "    \n",
    "**Comparisom of interest:** \n",
    "\n",
    "* Exercise (Non-Tumor) vs. Non-Exercise (Non-Tumor) --> genes affected by exercise on healthy tissue\n",
    "* Exercise (Tumor) vs. Non-Exercise (Tumor) -------------> genes affected by exercise on cancer tissue\n",
    "    \n",
    "**Note**:\n",
    "\n",
    "All processed data can be found here:\n",
    "\n",
    "https://www.ncbi.nlm.nih.gov/Traces/study/?acc=PRJNA1142455&o=acc_s%3Aa\n",
    "\n",
    "Paper can be found here: \n",
    "\n",
    "https://onlinelibrary.wiley.com/doi/full/10.1111/gtc.13161\n",
    "\n",
    "Here we will use DESeq2 to perform differential gene expression analysis. DESeq2 has a nice tutorial that can be found [here](http://bioconductor.org/packages/devel/bioc/vignettes/DESeq2/inst/doc/DESeq2.html)."
   ]
  },
  {
   "cell_type": "markdown",
   "metadata": {},
   "source": [
    "## Step 0. set up working directory"
   ]
  },
  {
   "cell_type": "code",
   "execution_count": 1,
   "metadata": {},
   "outputs": [],
   "source": [
    "USER <- Sys.getenv(\"USER\")\n",
    "setwd(paste0(\"/mnt/storage/\",USER,\"/jupyternotebooks//assignment_1/bulk_RNA_seq\"))"
   ]
  },
  {
   "cell_type": "markdown",
   "metadata": {},
   "source": [
    "## Step 1. Load data\n",
    "\n",
    "The starting point of a DESeq2 analysis is a count matrix K with one row for each gene i and one column for each sample j. The matrix entries K ij indicate the number of sequencing reads that have been unambiguously mapped to a gene in a sample. Let's load the count matrix we generated in the previous notebook."
   ]
  },
  {
   "cell_type": "code",
   "execution_count": 36,
   "metadata": {},
   "outputs": [],
   "source": [
    "cts <- as.matrix(read.csv(\"counts/samples.counts.formatted\", sep=\"\\t\", row.names = \"Geneid\"))"
   ]
  },
  {
   "cell_type": "code",
   "execution_count": 37,
   "metadata": {},
   "outputs": [
    {
     "data": {
      "text/html": [
       "<table class=\"dataframe\">\n",
       "<caption>A matrix: 5 × 8 of type int</caption>\n",
       "<thead>\n",
       "\t<tr><th></th><th scope=col>exe_non_tumor_1</th><th scope=col>exe_non_tumor_2</th><th scope=col>exe_tumor_1</th><th scope=col>exe_tumor_2</th><th scope=col>non_exe_non_tumor_1</th><th scope=col>non_exe_non_tumor_2</th><th scope=col>non_exe_tumor_1</th><th scope=col>non_exe_tumor_2</th></tr>\n",
       "</thead>\n",
       "<tbody>\n",
       "\t<tr><th scope=row>4933401J01Rik</th><td>0</td><td>0</td><td>0</td><td>0</td><td>0</td><td>0</td><td>0</td><td>0</td></tr>\n",
       "\t<tr><th scope=row>Gm26206</th><td>0</td><td>0</td><td>0</td><td>0</td><td>0</td><td>0</td><td>0</td><td>0</td></tr>\n",
       "\t<tr><th scope=row>Xkr4</th><td>1</td><td>0</td><td>0</td><td>0</td><td>0</td><td>0</td><td>0</td><td>1</td></tr>\n",
       "\t<tr><th scope=row>Gm18956</th><td>0</td><td>0</td><td>0</td><td>0</td><td>0</td><td>0</td><td>0</td><td>0</td></tr>\n",
       "\t<tr><th scope=row>Gm37180</th><td>0</td><td>0</td><td>0</td><td>0</td><td>0</td><td>0</td><td>0</td><td>0</td></tr>\n",
       "</tbody>\n",
       "</table>\n"
      ],
      "text/latex": [
       "A matrix: 5 × 8 of type int\n",
       "\\begin{tabular}{r|llllllll}\n",
       "  & exe\\_non\\_tumor\\_1 & exe\\_non\\_tumor\\_2 & exe\\_tumor\\_1 & exe\\_tumor\\_2 & non\\_exe\\_non\\_tumor\\_1 & non\\_exe\\_non\\_tumor\\_2 & non\\_exe\\_tumor\\_1 & non\\_exe\\_tumor\\_2\\\\\n",
       "\\hline\n",
       "\t4933401J01Rik & 0 & 0 & 0 & 0 & 0 & 0 & 0 & 0\\\\\n",
       "\tGm26206 & 0 & 0 & 0 & 0 & 0 & 0 & 0 & 0\\\\\n",
       "\tXkr4 & 1 & 0 & 0 & 0 & 0 & 0 & 0 & 1\\\\\n",
       "\tGm18956 & 0 & 0 & 0 & 0 & 0 & 0 & 0 & 0\\\\\n",
       "\tGm37180 & 0 & 0 & 0 & 0 & 0 & 0 & 0 & 0\\\\\n",
       "\\end{tabular}\n"
      ],
      "text/markdown": [
       "\n",
       "A matrix: 5 × 8 of type int\n",
       "\n",
       "| <!--/--> | exe_non_tumor_1 | exe_non_tumor_2 | exe_tumor_1 | exe_tumor_2 | non_exe_non_tumor_1 | non_exe_non_tumor_2 | non_exe_tumor_1 | non_exe_tumor_2 |\n",
       "|---|---|---|---|---|---|---|---|---|\n",
       "| 4933401J01Rik | 0 | 0 | 0 | 0 | 0 | 0 | 0 | 0 |\n",
       "| Gm26206 | 0 | 0 | 0 | 0 | 0 | 0 | 0 | 0 |\n",
       "| Xkr4 | 1 | 0 | 0 | 0 | 0 | 0 | 0 | 1 |\n",
       "| Gm18956 | 0 | 0 | 0 | 0 | 0 | 0 | 0 | 0 |\n",
       "| Gm37180 | 0 | 0 | 0 | 0 | 0 | 0 | 0 | 0 |\n",
       "\n"
      ],
      "text/plain": [
       "              exe_non_tumor_1 exe_non_tumor_2 exe_tumor_1 exe_tumor_2\n",
       "4933401J01Rik 0               0               0           0          \n",
       "Gm26206       0               0               0           0          \n",
       "Xkr4          1               0               0           0          \n",
       "Gm18956       0               0               0           0          \n",
       "Gm37180       0               0               0           0          \n",
       "              non_exe_non_tumor_1 non_exe_non_tumor_2 non_exe_tumor_1\n",
       "4933401J01Rik 0                   0                   0              \n",
       "Gm26206       0                   0                   0              \n",
       "Xkr4          0                   0                   0              \n",
       "Gm18956       0                   0                   0              \n",
       "Gm37180       0                   0                   0              \n",
       "              non_exe_tumor_2\n",
       "4933401J01Rik 0              \n",
       "Gm26206       0              \n",
       "Xkr4          1              \n",
       "Gm18956       0              \n",
       "Gm37180       0              "
      ]
     },
     "metadata": {},
     "output_type": "display_data"
    }
   ],
   "source": [
    "head(cts, 5)"
   ]
  },
  {
   "cell_type": "markdown",
   "metadata": {},
   "source": [
    "Next we will generate a dataframe containing metadata on our samples."
   ]
  },
  {
   "cell_type": "code",
   "execution_count": 38,
   "metadata": {},
   "outputs": [],
   "source": [
    "coldata <- data.frame(\n",
    "    row.names = c(\"exe_non_tumor_1\", \"exe_non_tumor_2\", \"exe_tumor_1\", \"exe_tumor_2\", \"non_exe_non_tumor_1\", \"non_exe_non_tumor_2\", \"non_exe_tumor_1\", \"non_exe_tumor_2\"),\n",
    "    condition = c(\"treatment_healthy\", \"treatment_healthy\", \"treatment_tumor\", \"treatment_tumor\", \"control_negative\", \"control_negative\", \"control_positive\", \"control_positive\") # Specify wether the sample was treated with nutlin or not\n",
    ")"
   ]
  },
  {
   "cell_type": "code",
   "execution_count": 39,
   "metadata": {},
   "outputs": [
    {
     "data": {
      "text/html": [
       "<table class=\"dataframe\">\n",
       "<caption>A data.frame: 8 × 1</caption>\n",
       "<thead>\n",
       "\t<tr><th></th><th scope=col>condition</th></tr>\n",
       "\t<tr><th></th><th scope=col>&lt;fct&gt;</th></tr>\n",
       "</thead>\n",
       "<tbody>\n",
       "\t<tr><th scope=row>exe_non_tumor_1</th><td>treatment_healthy</td></tr>\n",
       "\t<tr><th scope=row>exe_non_tumor_2</th><td>treatment_healthy</td></tr>\n",
       "\t<tr><th scope=row>exe_tumor_1</th><td>treatment_tumor  </td></tr>\n",
       "\t<tr><th scope=row>exe_tumor_2</th><td>treatment_tumor  </td></tr>\n",
       "\t<tr><th scope=row>non_exe_non_tumor_1</th><td>control_negative </td></tr>\n",
       "\t<tr><th scope=row>non_exe_non_tumor_2</th><td>control_negative </td></tr>\n",
       "\t<tr><th scope=row>non_exe_tumor_1</th><td>control_positive </td></tr>\n",
       "\t<tr><th scope=row>non_exe_tumor_2</th><td>control_positive </td></tr>\n",
       "</tbody>\n",
       "</table>\n"
      ],
      "text/latex": [
       "A data.frame: 8 × 1\n",
       "\\begin{tabular}{r|l}\n",
       "  & condition\\\\\n",
       "  & <fct>\\\\\n",
       "\\hline\n",
       "\texe\\_non\\_tumor\\_1 & treatment\\_healthy\\\\\n",
       "\texe\\_non\\_tumor\\_2 & treatment\\_healthy\\\\\n",
       "\texe\\_tumor\\_1 & treatment\\_tumor  \\\\\n",
       "\texe\\_tumor\\_2 & treatment\\_tumor  \\\\\n",
       "\tnon\\_exe\\_non\\_tumor\\_1 & control\\_negative \\\\\n",
       "\tnon\\_exe\\_non\\_tumor\\_2 & control\\_negative \\\\\n",
       "\tnon\\_exe\\_tumor\\_1 & control\\_positive \\\\\n",
       "\tnon\\_exe\\_tumor\\_2 & control\\_positive \\\\\n",
       "\\end{tabular}\n"
      ],
      "text/markdown": [
       "\n",
       "A data.frame: 8 × 1\n",
       "\n",
       "| <!--/--> | condition &lt;fct&gt; |\n",
       "|---|---|\n",
       "| exe_non_tumor_1 | treatment_healthy |\n",
       "| exe_non_tumor_2 | treatment_healthy |\n",
       "| exe_tumor_1 | treatment_tumor   |\n",
       "| exe_tumor_2 | treatment_tumor   |\n",
       "| non_exe_non_tumor_1 | control_negative  |\n",
       "| non_exe_non_tumor_2 | control_negative  |\n",
       "| non_exe_tumor_1 | control_positive  |\n",
       "| non_exe_tumor_2 | control_positive  |\n",
       "\n"
      ],
      "text/plain": [
       "                    condition        \n",
       "exe_non_tumor_1     treatment_healthy\n",
       "exe_non_tumor_2     treatment_healthy\n",
       "exe_tumor_1         treatment_tumor  \n",
       "exe_tumor_2         treatment_tumor  \n",
       "non_exe_non_tumor_1 control_negative \n",
       "non_exe_non_tumor_2 control_negative \n",
       "non_exe_tumor_1     control_positive \n",
       "non_exe_tumor_2     control_positive "
      ]
     },
     "metadata": {},
     "output_type": "display_data"
    }
   ],
   "source": [
    "coldata"
   ]
  },
  {
   "cell_type": "markdown",
   "metadata": {},
   "source": [
    "**It's critical that the columns of the count matrix and the rows of the coldata are in the same order**. This is the case here."
   ]
  },
  {
   "cell_type": "code",
   "execution_count": 41,
   "metadata": {},
   "outputs": [
    {
     "data": {
      "text/html": [
       "TRUE"
      ],
      "text/latex": [
       "TRUE"
      ],
      "text/markdown": [
       "TRUE"
      ],
      "text/plain": [
       "[1] TRUE"
      ]
     },
     "metadata": {},
     "output_type": "display_data"
    }
   ],
   "source": [
    "all(rownames(coldata) == colnames(cts))"
   ]
  },
  {
   "cell_type": "markdown",
   "metadata": {},
   "source": [
    "Next we construct the DESeqDataSet. For this we need:\n",
    "- the count matrix (cts)\n",
    "- the metadata (coldata)\n",
    "- the design, this specifies which variables to use to perform differential gene expression testing. In our case this variable is stored in the \"condition\" column of the metadata dataframe, as we want to test for differential expression between treatment and control."
   ]
  },
  {
   "cell_type": "code",
   "execution_count": 33,
   "metadata": {},
   "outputs": [
    {
     "ename": "ERROR",
     "evalue": "Error in DESeqDataSet(se, design = design, ignoreRank): some values in assay are negative\n",
     "output_type": "error",
     "traceback": [
      "Error in DESeqDataSet(se, design = design, ignoreRank): some values in assay are negative\nTraceback:\n",
      "1. DESeqDataSetFromMatrix(countData = cts_subset, colData = coldata, \n .     design = ~condition)",
      "2. DESeqDataSet(se, design = design, ignoreRank)",
      "3. stop(\"some values in assay are negative\")"
     ]
    }
   ],
   "source": [
    "suppressWarnings(library(\"DESeq2\"))\n",
    "dds <- DESeqDataSetFromMatrix(countData = cts,\n",
    "                              colData = coldata,\n",
    "                              design = ~ condition)\n",
    "dds"
   ]
  },
  {
   "cell_type": "markdown",
   "metadata": {},
   "source": [
    "Let's set the order of the treatment and control group. Our control group is the baseline, so we set this as the first level."
   ]
  },
  {
   "cell_type": "code",
   "execution_count": null,
   "metadata": {},
   "outputs": [],
   "source": [
    "dds$condition <- factor(dds$condition, levels = c(\"control\",\"treatment\"))"
   ]
  },
  {
   "cell_type": "markdown",
   "metadata": {},
   "source": [
    "We will perform some prefiltering to only keep genes that have a count of at least 10 for a minimum of 2 samples"
   ]
  },
  {
   "cell_type": "code",
   "execution_count": null,
   "metadata": {},
   "outputs": [],
   "source": [
    "smallestGroupSize <- 2\n",
    "keep <- rowSums(counts(dds) >= 10) >= smallestGroupSize\n",
    "dds <- dds[keep,]"
   ]
  },
  {
   "cell_type": "markdown",
   "metadata": {},
   "source": [
    "## Step 2. Model read counts and performing differential expression analysis\n",
    "\n",
    "Given the count matrix: $K_{ij}$ with one row for each gene $i$ and one columns for each sample $j$\n",
    "\n",
    "Read counts $K_{ij}$ are modeled as a negative binomial distribution (a.k.a. gamma-Poisson distribution) with a fitted mean $\\mu_{ij}$ and gene specific dispersion $\\alpha_{i}$. \n",
    "\n",
    "<p style=\"text-align: center;\">$K_{ij} \\sim \\text{NB}(\\mu_{ij}, \\alpha_{i})$</p>\n",
    "\n",
    "For illustrative purposes, the distribution of the expression of genes in sample MCF7_NS1 is shown."
   ]
  },
  {
   "cell_type": "code",
   "execution_count": null,
   "metadata": {},
   "outputs": [],
   "source": [
    "hist(cts[, 'MCF7_NS1'], ylim=c(0, 200), col = \"darkgray\")"
   ]
  },
  {
   "cell_type": "markdown",
   "metadata": {},
   "source": [
    "The fitted mean $\\mu_{ij}$ is composed of sample-specific size factor $s_j$ and a parameter $q_{ij}$, proportional to the concentration of cDNA fragments from the gene $i$ in sample $j$.\n",
    "\n",
    "<p style=\"text-align: center;\">$\\mu_{ij}=s_j \\cdot q_{ij}$</p>\n",
    "\n",
    "The parameter $s_j$, which is the same for all genes in a sample, accounts for differences in sequencing depths between two samples. It can also be advantageous to calculate a gene-specific normalization factor $s_{ij}$. This gene- and sample-specific normalization factor accounts for further sources of technical bias such as differing dependence on GC content, gene length, ...\n",
    "\n",
    "In this case the formula looks like this:\n",
    "\n",
    "<p style=\"text-align: center;\">$\\mu_{ij}=s_{ij} \\cdot q_{ij}$</p>\n",
    "\n",
    "Finally generalized linear models (GLMs) are used to fit for each gene as follows:\n",
    "\n",
    "<p style=\"text-align: center;\">$\\log_2{q_{ij}} = \\sum_r{x_{jr} \\cdot \\beta_{ir} }$</p>\n",
    "\n",
    "With $x_{jr}$ a design matrix for $r$ conditions indicating wether sample $j$ belongs to each condition $r$ or not.\n",
    "\n",
    "In this case we have only a single condition (control vs treatment) and thus the formula simplifies to:\n",
    "\n",
    "<p style=\"text-align: center;\">$\\log_2{q_{ij}} = x_{j} \\cdot \\beta_{i} $</p>\n",
    "\n",
    "$\\beta_{i}$ gives the log2 fold change for gene $i$."
   ]
  },
  {
   "cell_type": "markdown",
   "metadata": {},
   "source": [
    "The variability between replicates is modeled using the dispersion parameter $\\alpha_{i}$. It defines the relationship between the variance of the observed count and its mean value (how far do we expected the observed count will be from the mean value).\n",
    "\n",
    "<p style=\"text-align: center;\">$\\text{Var}(K_{ij}) = E[(K_{ij} - \\mu_{ij})^2] = \\mu_{ij} + \\alpha_i \\cdot \\mu_{ij}^2$\n",
    "    \n",
    "Accurate estimation of this dispersion parameter $\\alpha_i$ is critical for statistical testing of differential expression. For studies with a small sample size this parameter is difficult to estimate. DESeq2 solves this issue by assuming that genes with similar average expression values will have a similar dispersion. \n"
   ]
  },
  {
   "cell_type": "code",
   "execution_count": null,
   "metadata": {},
   "outputs": [],
   "source": [
    "library(ggplot2)\n",
    "data <- data.frame(\n",
    "    mean = rowMeans(cts[rowSums(cts) != 0, ]),\n",
    "    var  = rowVars(cts[rowSums(cts) != 0, ]))\n",
    "ggplot(data, aes(x = mean, y = var)) +\n",
    "    geom_point() +\n",
    "    scale_x_continuous(trans = \"log10\") +\n",
    "    scale_y_continuous(trans = \"log10\") +\n",
    "    geom_abline(intercept = 0, slope = 1, color = \"red\", size = 2)"
   ]
  },
  {
   "cell_type": "markdown",
   "metadata": {},
   "source": [
    "The Red line represents the case where the variance equals the mean"
   ]
  },
  {
   "cell_type": "markdown",
   "metadata": {},
   "source": [
    "The **size factors** $s_{j}$ can be estimated for each sample using the function\n",
    "    \n",
    "        estimateSizeFactors"
   ]
  },
  {
   "cell_type": "code",
   "execution_count": null,
   "metadata": {},
   "outputs": [],
   "source": [
    "dds <- estimateSizeFactors(dds)"
   ]
  },
  {
   "cell_type": "code",
   "execution_count": null,
   "metadata": {},
   "outputs": [],
   "source": [
    "dds@colData"
   ]
  },
  {
   "cell_type": "markdown",
   "metadata": {},
   "source": [
    "The **dispersion** $\\alpha_{i}$ can be estimated using the function\n",
    "\n",
    "    estimateDispersions"
   ]
  },
  {
   "cell_type": "code",
   "execution_count": null,
   "metadata": {},
   "outputs": [],
   "source": [
    "dds <- estimateDispersions(dds)"
   ]
  },
  {
   "cell_type": "code",
   "execution_count": null,
   "metadata": {},
   "outputs": [],
   "source": [
    "head(mcols(dds))"
   ]
  },
  {
   "cell_type": "code",
   "execution_count": null,
   "metadata": {},
   "outputs": [],
   "source": [
    "ggplot(as.data.frame(mcols(dds)[!mcols(dds)$allZero, ])) +\n",
    "    geom_point(aes(x = baseMean, y = baseVar )) + \n",
    "    geom_line(aes(x = baseMean, y = baseMean + dispFit * baseMean * baseMean ), color = \"red\", size = 2) +\n",
    "    scale_x_continuous(trans = \"log10\") +\n",
    "    scale_y_continuous(trans = \"log10\")"
   ]
  },
  {
   "cell_type": "markdown",
   "metadata": {},
   "source": [
    "As you can see the red line now fits the data much better!"
   ]
  },
  {
   "cell_type": "markdown",
   "metadata": {},
   "source": [
    "Finally we can **fit the GLM for each gene** to obtain $\\beta_j$, the log2FC of each gene across the two conditions. using the function:\n",
    "\n",
    "    nbinomWaldTest\n",
    "    \n"
   ]
  },
  {
   "cell_type": "code",
   "execution_count": null,
   "metadata": {},
   "outputs": [],
   "source": [
    "dds <- nbinomWaldTest(dds)"
   ]
  },
  {
   "cell_type": "markdown",
   "metadata": {},
   "source": [
    "The results of this can be visualized using the function\n",
    "\n",
    "    results"
   ]
  },
  {
   "cell_type": "code",
   "execution_count": null,
   "metadata": {},
   "outputs": [],
   "source": [
    "res <- results(dds)\n",
    "res"
   ]
  },
  {
   "cell_type": "markdown",
   "metadata": {},
   "source": [
    "The three functions above:\n",
    "\n",
    "    estimateSizeFactors\n",
    "    estimateDispersions\n",
    "    nbinomWaldTest\n",
    "   \n",
    "can be run in one go using the wrapper function:\n",
    "\n",
    "    DESeq"
   ]
  },
  {
   "cell_type": "code",
   "execution_count": null,
   "metadata": {},
   "outputs": [],
   "source": [
    "dds <- DESeq(dds)\n",
    "res <- results(dds)\n",
    "res"
   ]
  },
  {
   "cell_type": "markdown",
   "metadata": {},
   "source": [
    "Genes with a low read count have a strong variance of the Log2FolcChange (see plot below). Because of this, weakly expressed genes can seem to have strong differences between two conditions. However, this is not due to a real difference but due to noise in the measurements. This will cause issues if we want to rank genes based on their log2fold change values."
   ]
  },
  {
   "cell_type": "code",
   "execution_count": null,
   "metadata": {},
   "outputs": [],
   "source": [
    "ggplot(as.data.frame(res), aes(x = baseMean, y = log2FoldChange)) +\n",
    "    geom_point(aes(colour = padj < 0.01), size = 0.5) +\n",
    "    scale_x_continuous(trans = \"log10\") +\n",
    "    scale_color_manual(name = \"padj < 0.01\", values = setNames(c(\"red\", \"black\"), c(T, F)))"
   ]
  },
  {
   "cell_type": "markdown",
   "metadata": {},
   "source": [
    "As you can see genes with a low mean (left of the plot) have a big variance of the log2foldchange. This can also be seen by looking at the standard error of the log2foldchange vs the mean"
   ]
  },
  {
   "cell_type": "code",
   "execution_count": null,
   "metadata": {},
   "outputs": [],
   "source": [
    "ggplot(as.data.frame(res), aes(x = baseMean, y = lfcSE)) +\n",
    "    geom_point(size = 0.5) +\n",
    "    scale_x_continuous(trans = \"log10\") +\n",
    "    ylim(0, 3)"
   ]
  },
  {
   "cell_type": "markdown",
   "metadata": {},
   "source": [
    "To account for this DESeq2 has a function to *shrink* Log2FoldChange towards zero in such a manner that the shrinkage is stronger when the available information for a gene is low (i.e. low number of counts, are dispersion is high).\n",
    "\n",
    "The function for this is called\n",
    "\n",
    "    lfcShrink\n",
    "\n",
    "it takes the `dds` object as input together with the coefficient we want to shrink"
   ]
  },
  {
   "cell_type": "code",
   "execution_count": null,
   "metadata": {},
   "outputs": [],
   "source": [
    "resultsNames(dds)"
   ]
  },
  {
   "cell_type": "markdown",
   "metadata": {},
   "source": [
    "We want to shrink the coefficient `condition_treatment_vs_control` as this stores our Log2FoldChange values."
   ]
  },
  {
   "cell_type": "code",
   "execution_count": null,
   "metadata": {},
   "outputs": [],
   "source": [
    "resLFC <- lfcShrink(dds, coef=\"condition_treatment_vs_control\")"
   ]
  },
  {
   "cell_type": "code",
   "execution_count": null,
   "metadata": {},
   "outputs": [],
   "source": [
    "resLFC"
   ]
  },
  {
   "cell_type": "code",
   "execution_count": null,
   "metadata": {},
   "outputs": [],
   "source": [
    "ggplot(as.data.frame(resLFC), aes(x = baseMean, y = log2FoldChange)) +\n",
    "    geom_point(aes(colour = padj < 0.01), size = 0.5) +\n",
    "    scale_x_continuous(trans = \"log10\") +\n",
    "    scale_color_manual(name = \"padj < 0.01\", values = setNames(c(\"red\", \"black\"), c(T, F)))"
   ]
  },
  {
   "cell_type": "markdown",
   "metadata": {},
   "source": [
    "As you can see, now the effect of the mean on the variance of the Log2FoldChange is much smaller. Again we can also visualize this by plotting the standard error."
   ]
  },
  {
   "cell_type": "code",
   "execution_count": null,
   "metadata": {},
   "outputs": [],
   "source": [
    "ggplot(as.data.frame(resLFC), aes(x = baseMean, y = lfcSE)) +\n",
    "    geom_point(size = 0.5) +\n",
    "    scale_x_continuous(trans = \"log10\") +\n",
    "    ylim(0, 3)"
   ]
  },
  {
   "cell_type": "markdown",
   "metadata": {},
   "source": [
    "## Step 3. Downstream analysis"
   ]
  },
  {
   "cell_type": "markdown",
   "metadata": {},
   "source": [
    "### Getting a list of up- or downregulated genes\n",
    "To manipulate dataframe we use the package dplyr"
   ]
  },
  {
   "cell_type": "code",
   "execution_count": null,
   "metadata": {},
   "outputs": [],
   "source": [
    "suppressWarnings(library(dplyr))"
   ]
  },
  {
   "cell_type": "code",
   "execution_count": null,
   "metadata": {},
   "outputs": [],
   "source": [
    "resLFC_df <- as.data.frame(resLFC)"
   ]
  },
  {
   "cell_type": "markdown",
   "metadata": {},
   "source": [
    "Let's define some thresholds"
   ]
  },
  {
   "cell_type": "code",
   "execution_count": null,
   "metadata": {},
   "outputs": [],
   "source": [
    "log2FC_thr = 1\n",
    "pad_thr = 0.01"
   ]
  },
  {
   "cell_type": "code",
   "execution_count": null,
   "metadata": {},
   "outputs": [],
   "source": [
    "upregulated_genes <- row.names(resLFC_df %>% \n",
    "    filter(log2FoldChange > log2FC_thr, padj < pad_thr))"
   ]
  },
  {
   "cell_type": "code",
   "execution_count": null,
   "metadata": {},
   "outputs": [],
   "source": [
    "downregulated_genes <- row.names(resLFC_df %>% \n",
    "    filter(log2FoldChange < log2FC_thr, padj < pad_thr))"
   ]
  },
  {
   "cell_type": "markdown",
   "metadata": {},
   "source": [
    "## Sorting the gene list based on log2FC values"
   ]
  },
  {
   "cell_type": "code",
   "execution_count": null,
   "metadata": {},
   "outputs": [],
   "source": [
    "resLFC_df %>%\n",
    "    arrange(log2FoldChange)"
   ]
  },
  {
   "cell_type": "markdown",
   "metadata": {},
   "source": [
    "### Plotting a heatmap"
   ]
  },
  {
   "cell_type": "code",
   "execution_count": null,
   "metadata": {},
   "outputs": [],
   "source": [
    "library(pheatmap)"
   ]
  },
  {
   "cell_type": "code",
   "execution_count": null,
   "metadata": {},
   "outputs": [],
   "source": [
    "pheatmap(cts[c(upregulated_genes, downregulated_genes), ], scale = \"row\", show_rownames = F)"
   ]
  }
 ],
 "metadata": {
  "kernelspec": {
   "display_name": "R",
   "language": "R",
   "name": "ir"
  },
  "language_info": {
   "codemirror_mode": "r",
   "file_extension": ".r",
   "mimetype": "text/x-r-source",
   "name": "R",
   "pygments_lexer": "r",
   "version": "3.6.3"
  }
 },
 "nbformat": 4,
 "nbformat_minor": 2
}
